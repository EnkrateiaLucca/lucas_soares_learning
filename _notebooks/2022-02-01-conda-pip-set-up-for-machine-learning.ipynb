{
 "cells": [
  {
   "cell_type": "markdown",
   "metadata": {},
   "source": [
    "# Setting up an Environment for Machine Learning with Conda & Pip-Tools"
   ]
  },
  {
   "cell_type": "markdown",
   "metadata": {},
   "source": [
    "<!-- source: https://github.com/full-stack-deep-learning/conda-piptools?utm_source=pocket_mylist   -->\n",
    "\n",
    "Setting up a robust and deterministic environment for machine learning development can sometimes be a bit confusing if we don't set some ground rules in the beggining. \n",
    "\n",
    "In this article, I want to go through how to set up a robust development environment for machine learning that faciliatates managing dependencies and guarantees compatibility between the development and production stage throughout the life cycle of that project.\n",
    "\n",
    "The idea is to start from scratch and end with a folder containing some basic machine learning code and the entire environment set up\n",
    "configured from start to finish.\n",
    "\n",
    "___Disclaimer:___ the contents of this article were written using the following main resources:\n",
    "- https://github.com/full-stack-deep-learning/conda-piptools\n",
    "- https://github.com/full-stack-deep-learning/fsdl-text-recognizer-project\n",
    "- https://github.com/jazzband/pip-tools\n",
    "\n",
    "Mainly I learned a lot from the course taught by the [\"Full Stack Deep Learning course](https://fullstackdeeplearning.com/), which besides being the main resource for learning this set up, has been my reference guide for all topics related to practical machine learning, so I strongly recommend you check them out!\n",
    "\n",
    "---"
   ]
  },
  {
   "cell_type": "markdown",
   "metadata": {},
   "source": [
    "# Steps\n",
    "\n",
    "1. __Set up Anaconda__\n",
    "\n",
    "2. __Create virtual environment and install the dependencies__\n",
    "3. __Export the environment to an `environment.yml` file__\n",
    "4. __Create the requirements files and add our dependencies for development and production__\n",
    "5. __Write a MakeFile__"
   ]
  },
  {
   "cell_type": "markdown",
   "metadata": {},
   "source": [
    "## 1. Set up Anaconda\n",
    "\n",
    "- [Set up anaconda](https://docs.conda.io/projects/conda/en/latest/user-guide/getting-started.html#starting-conda)\n",
    "\n",
    "- Confirm conda version with: `conda -V`\n",
    "In my case I get: `conda 4.10.3`\n",
    "\n",
    "- Update conda to the current version: `conda update conda`\n",
    "\n",
    "In my case I get: `conda 4.11.0`"
   ]
  },
  {
   "cell_type": "markdown",
   "metadata": {},
   "source": [
    "## 2. Create virtual environment and install the dependencies\n",
    "\n",
    "In the case of this project I will use a `pytorch` example so I will create the environment with the necessary cudatoolkit first like this:\n",
    "\n",
    "```\n",
    "conda create -n setup_ml_env python==3.7 cudatoolkit=10.2 cudnn=7.6\n",
    "```\n",
    "\n",
    "Now we activate the environment by running:\n",
    "\n",
    "```\n",
    "conda activate setup_ml_env\n",
    "```\n",
    "\n",
    "And, we test the installation by running:\n",
    "```\n",
    "python -V\n",
    "```\n",
    "Expected output:\n",
    "\n",
    "```\n",
    "Python 3.7.11\n",
    "```\n",
    "\n",
    "## 3. Export the environment to an `environment.yml` file\n",
    "\n",
    "```\n",
    "`conda env export --from-history > environment.yml`\n",
    "```\n",
    "\n",
    "The `--from-history` command makes sure that you only add to the environment.yml file the packages you actually installed so far (in this case just the\n",
    "`cudatoolkit` package).\n",
    "\n",
    "Let's add to this file `pip` and `pip-tools` to use later for installing\n",
    "our Python packages and then we can print out the contents of the file to check:\n",
    "```\n",
    "cat environment.yml\n",
    "```\n",
    "\n",
    "Expected output:\n",
    "\n",
    "```\n",
    "name: setup_ml_env\n",
    "channels:\n",
    "  - defaults\n",
    "dependencies:\n",
    "  - python=3.7\n",
    "  - cudatoolkit=10.2\n",
    "  - cudnn=7.6\n",
    "  - pip\n",
    "  - pip:\n",
    "    - pip-tools\n",
    "prefix: path/to/setup_ml_env\n",
    "```\n",
    "\n",
    "\n"
   ]
  },
  {
   "cell_type": "markdown",
   "metadata": {},
   "source": [
    "# 4. Create the requirements files and add our dependencies for development and production\n",
    "\n",
    "In a linux terminal:\n",
    "```\n",
    "mkdir requirements\n",
    "touch requirements/dev.in\n",
    "touch requirements/prod.in\n",
    "```\n",
    "\n",
    "Inside the `dev.in` file we write:\n",
    "\n",
    "```\n",
    "-c prod.txt\n",
    "mypy\n",
    "black\n",
    "```\n",
    "\n",
    "Here the `-c prod.txt` will constrain the development packages to the packages specified in the production requirements that will be generated from the `prod.in` file.\n",
    "\n",
    "Inside the `prod.in` file write:\n",
    "\n",
    "```\n",
    "torch\n",
    "numpy\n",
    "```\n",
    "\n",
    "This is just an illustrative example of toy project using the `torch` and `numpy` packages."
   ]
  },
  {
   "cell_type": "markdown",
   "metadata": {},
   "source": [
    "# 5. Write a MakeFile\n",
    "\n",
    "The makefile for our project will contain:\n",
    "\n",
    "```\n",
    "# Command to print all the other targets, from https://stackoverflow.com/a/26339924\n",
    "help:\n",
    "\t@$(MAKE) -pRrq -f $(lastword $(MAKEFILE_LIST)) : 2>/dev/null | awk -v RS= -F: '/^# File/,/^# Finished Make data base/ {if ($$1 !~ \"^[#.]\") {print $$1}}' | sort | egrep -v -e '^[^[:alnum:]]' -e '^$@$$' \n",
    "```\n",
    "The `help` command prints all available commands for our makefile.\n",
    "\n",
    "```\n",
    "# Install exact Python and CUDA versions\n",
    "conda-update:\n",
    "\tconda env update --prune -f environment.yml\n",
    "\techo \"Activate your environment with: conda activate setup_ml_env\"\n",
    "```\n",
    "Here is the makefile command for updating our environment everytime we modify the `environment.yml` file.\n",
    "\n",
    "```\n",
    "# Compile and install exact pip packages\n",
    "pip-tools:\n",
    "\tpip install pip-tools\n",
    "\tpip-compile requirements/prod.in && pip-compile requirements/dev.in\n",
    "\tpip-sync requirements/prod.txt requirements/dev.txt\n",
    "```\n",
    "The [`pip-tools`](https://github.com/jazzband/pip-tools) command to compile and install mutually compatible versions of all requirements. \n",
    "I won't cover linting here to avoid introducing more complexity to this article."
   ]
  },
  {
   "cell_type": "markdown",
   "metadata": {},
   "source": [
    "As described in the [repo of the full stack deep learning course](https://github.com/full-stack-deep-learning/fsdl-text-recognizer-project/blob/master/setup.md) using pip-tools allows us to:\n",
    "\n",
    "- Separate out dev from production dependencies (`dev.in` vs `prod.in`).\n",
    "\n",
    "- Have a lockfile of exact versions for all dependencies (the auto-generated `dev.txt` and `prod.txt`).\n",
    "\n",
    "- Allow us to easily deploy to targets that may not support the conda environment.\n",
    "\n",
    "If you add, remove, or need to update versions of some requirements, edit the .in files, and simply run `make pip-tools` again."
   ]
  },
  {
   "cell_type": "markdown",
   "metadata": {},
   "source": [
    "### Concluding Thoughts\n",
    "\n",
    "At the beggining of my machine learning career I was just installing packages and running code, without considering the negative implications of things like dependency issues and what not.\n",
    "\n",
    "Now, even thought there might still be things that I am missing, I feel like this approach attempts to cover the holes in the naive approach to developing a machine learning project.\n",
    "- environment.yml specifies python and optionally cuda/cudnn\n",
    "- make conda-update creates/updates the conda env\n",
    "- `requirements/prod.in` and `requirements/dev.in` specify python package requirements\n",
    "- `make pip-tools` resolves and install all Python packages"
   ]
  },
  {
   "cell_type": "markdown",
   "metadata": {},
   "source": [
    "If you liked this post, consider joining me on [Medium](https://lucas-soares.medium.com/membership). Also, [subscribe to my youtube channel](https://www.youtube.com/channel/UCu8WF59Scx9f3H1N_FgZUwQ). Thanks and see you next time! :)"
   ]
  },
  {
   "cell_type": "markdown",
   "metadata": {},
   "source": []
  }
 ],
 "metadata": {
  "interpreter": {
   "hash": "180f999d9848f1224ab7a40d614ddb7a64ce5dc191baad50ff5b5a373ba31d53"
  },
  "kernelspec": {
   "display_name": "Python 3.8.8 64-bit ('explore': conda)",
   "language": "python",
   "name": "python3"
  },
  "language_info": {
   "codemirror_mode": {
    "name": "ipython",
    "version": 3
   },
   "file_extension": ".py",
   "mimetype": "text/x-python",
   "name": "python",
   "nbconvert_exporter": "python",
   "pygments_lexer": "ipython3",
   "version": "3.7.12"
  },
  "orig_nbformat": 4
 },
 "nbformat": 4,
 "nbformat_minor": 2
}
