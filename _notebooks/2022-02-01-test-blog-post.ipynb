{
 "cells": [
  {
   "cell_type": "markdown",
   "metadata": {},
   "source": [
    "# \"Test Blog Post\"\n",
    "\n",
    "> \"This is a test blog post\"\n",
    "\n",
    "- toc:true- branch: master\n",
    "\n",
    "- badges: true\n",
    "\n",
    "- comments: true\n",
    "\n",
    "- author: Hamel Husain & Jeremy Howard\n",
    "\n",
    "- categories: [testing, jupyter]"
   ]
  },
  {
   "cell_type": "code",
   "execution_count": null,
   "metadata": {},
   "outputs": [],
   "source": [
    "import numpy as np\n",
    "import matplotlib.pyplot as plt\n",
    "\n",
    "plt.plot(np.arange(100))\n",
    "plt.title(\"Test Plot\")\n",
    "plt.show()"
   ]
  }
 ],
 "metadata": {
  "interpreter": {
   "hash": "180f999d9848f1224ab7a40d614ddb7a64ce5dc191baad50ff5b5a373ba31d53"
  },
  "kernelspec": {
   "display_name": "Python 3.7.0 64-bit ('explore': conda)",
   "language": "python",
   "name": "python3"
  },
  "language_info": {
   "codemirror_mode": {
    "name": "ipython",
    "version": 3
   },
   "file_extension": ".py",
   "mimetype": "text/x-python",
   "name": "python",
   "nbconvert_exporter": "python",
   "pygments_lexer": "ipython3",
   "version": "3.7.12"
  },
  "orig_nbformat": 4
 },
 "nbformat": 4,
 "nbformat_minor": 2
}
